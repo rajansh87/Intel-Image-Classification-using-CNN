{
  "nbformat": 4,
  "nbformat_minor": 0,
  "metadata": {
    "kernelspec": {
      "display_name": "Python 3",
      "language": "python",
      "name": "python3"
    },
    "language_info": {
      "codemirror_mode": {
        "name": "ipython",
        "version": 3
      },
      "file_extension": ".py",
      "mimetype": "text/x-python",
      "name": "python",
      "nbconvert_exporter": "python",
      "pygments_lexer": "ipython3",
      "version": "3.6.10"
    },
    "colab": {
      "name": "Intel-Placeimage-Classification using cnn.ipynb",
      "provenance": [],
      "collapsed_sections": []
    }
  },
  "cells": [
    {
      "cell_type": "code",
      "metadata": {
        "id": "KSWObTyhrhUh",
        "colab_type": "code",
        "outputId": "c4f0425c-1bcd-4bd2-baa7-fd5b01f8c0db",
        "colab": {
          "base_uri": "https://localhost:8080/",
          "height": 125
        }
      },
      "source": [
        "from google.colab import drive\n",
        "drive.mount('/content/drive')"
      ],
      "execution_count": 0,
      "outputs": [
        {
          "output_type": "stream",
          "text": [
            "Go to this URL in a browser: https://accounts.google.com/o/oauth2/auth?client_id=947318989803-6bn6qk8qdgf4n4g3pfee6491hc0brc4i.apps.googleusercontent.com&redirect_uri=urn%3aietf%3awg%3aoauth%3a2.0%3aoob&response_type=code&scope=email%20https%3a%2f%2fwww.googleapis.com%2fauth%2fdocs.test%20https%3a%2f%2fwww.googleapis.com%2fauth%2fdrive%20https%3a%2f%2fwww.googleapis.com%2fauth%2fdrive.photos.readonly%20https%3a%2f%2fwww.googleapis.com%2fauth%2fpeopleapi.readonly\n",
            "\n",
            "Enter your authorization code:\n",
            "··········\n",
            "Mounted at /content/drive\n"
          ],
          "name": "stdout"
        }
      ]
    },
    {
      "cell_type": "code",
      "metadata": {
        "id": "RWlNmme4req1",
        "colab_type": "code",
        "colab": {}
      },
      "source": [
        "!unzip -q \"/content/drive/My Drive/Dataset/intel-image-classification.zip\""
      ],
      "execution_count": 0,
      "outputs": []
    },
    {
      "cell_type": "code",
      "metadata": {
        "id": "mG0Te124D1dp",
        "colab_type": "code",
        "outputId": "320b1b97-c4d7-4b6a-ac33-1c809a04b3b1",
        "colab": {
          "base_uri": "https://localhost:8080/",
          "height": 34
        }
      },
      "source": [
        "from keras.layers import Convolution2D\n",
        "from keras.layers import MaxPooling2D\n",
        "from keras.layers import Flatten\n",
        "from keras.layers import Dense\n",
        "from keras.models import Sequential"
      ],
      "execution_count": 0,
      "outputs": [
        {
          "output_type": "stream",
          "text": [
            "Using TensorFlow backend.\n"
          ],
          "name": "stderr"
        }
      ]
    },
    {
      "cell_type": "code",
      "metadata": {
        "id": "XyVHp7fvD1d1",
        "colab_type": "code",
        "colab": {}
      },
      "source": [
        "model = Sequential()"
      ],
      "execution_count": 0,
      "outputs": []
    },
    {
      "cell_type": "code",
      "metadata": {
        "id": "B5Jv-vnPD1eB",
        "colab_type": "code",
        "colab": {}
      },
      "source": [
        "#inputlayer : apply filters\n",
        "model.add(Convolution2D(filters=32, \n",
        "                        kernel_size=(3,3), \n",
        "                        activation='relu',\n",
        "                   input_shape=(64, 64, 3)\n",
        "                       ))"
      ],
      "execution_count": 0,
      "outputs": []
    },
    {
      "cell_type": "code",
      "metadata": {
        "id": "xnUNlAxDD1eI",
        "colab_type": "code",
        "colab": {}
      },
      "source": [
        "# pooling layer where we are doing maxpooling\n",
        "model.add(MaxPooling2D(pool_size=(2, 2)))"
      ],
      "execution_count": 0,
      "outputs": []
    },
    {
      "cell_type": "code",
      "metadata": {
        "id": "h4Sysp5nD1eT",
        "colab_type": "code",
        "colab": {}
      },
      "source": [
        "#modification for increasing accuracy\n",
        "model.add(Convolution2D(filters=32, \n",
        "                        kernel_size=(3,3), \n",
        "                        activation='relu',\n",
        "                       ))"
      ],
      "execution_count": 0,
      "outputs": []
    },
    {
      "cell_type": "code",
      "metadata": {
        "id": "3QQJus6cD1eZ",
        "colab_type": "code",
        "colab": {}
      },
      "source": [
        "#modification for increasing accuracy\n",
        "model.add(MaxPooling2D(pool_size=(2, 2)))"
      ],
      "execution_count": 0,
      "outputs": []
    },
    {
      "cell_type": "code",
      "metadata": {
        "id": "JNumbpgmD1ef",
        "colab_type": "code",
        "colab": {}
      },
      "source": [
        "#layer inwhich we areconverting 2d/3d image to 1d image i.e flattening\n",
        "model.add(Flatten())"
      ],
      "execution_count": 0,
      "outputs": []
    },
    {
      "cell_type": "code",
      "metadata": {
        "id": "OHK1mtFyD1el",
        "colab_type": "code",
        "colab": {}
      },
      "source": [
        "# layer: appling relu to give positive output\n",
        "# from here our hidden layerrs starts\n",
        "model.add(Dense(units=128, activation='relu'))"
      ],
      "execution_count": 0,
      "outputs": []
    },
    {
      "cell_type": "code",
      "metadata": {
        "id": "f5SekLvkD1ep",
        "colab_type": "code",
        "colab": {}
      },
      "source": [
        "#output layer : to provide binary output using sigmoid function\n",
        "model.add(Dense(units=6, activation='softmax'))"
      ],
      "execution_count": 0,
      "outputs": []
    },
    {
      "cell_type": "code",
      "metadata": {
        "id": "iGD6tpQUD1ev",
        "colab_type": "code",
        "colab": {}
      },
      "source": [
        "model.compile(optimizer='adam', loss='categorical_crossentropy', metrics=['accuracy'])"
      ],
      "execution_count": 0,
      "outputs": []
    },
    {
      "cell_type": "code",
      "metadata": {
        "id": "2ev4Naoaf-tG",
        "colab_type": "code",
        "outputId": "346f870e-adfa-48f6-f24f-ca3b3072c322",
        "colab": {
          "base_uri": "https://localhost:8080/",
          "height": 407
        }
      },
      "source": [
        "model.summary()"
      ],
      "execution_count": 0,
      "outputs": [
        {
          "output_type": "stream",
          "text": [
            "Model: \"sequential_1\"\n",
            "_________________________________________________________________\n",
            "Layer (type)                 Output Shape              Param #   \n",
            "=================================================================\n",
            "conv2d_1 (Conv2D)            (None, 62, 62, 32)        896       \n",
            "_________________________________________________________________\n",
            "max_pooling2d_1 (MaxPooling2 (None, 31, 31, 32)        0         \n",
            "_________________________________________________________________\n",
            "conv2d_2 (Conv2D)            (None, 29, 29, 32)        9248      \n",
            "_________________________________________________________________\n",
            "max_pooling2d_2 (MaxPooling2 (None, 14, 14, 32)        0         \n",
            "_________________________________________________________________\n",
            "flatten_1 (Flatten)          (None, 6272)              0         \n",
            "_________________________________________________________________\n",
            "dense_1 (Dense)              (None, 128)               802944    \n",
            "_________________________________________________________________\n",
            "dense_2 (Dense)              (None, 6)                 774       \n",
            "=================================================================\n",
            "Total params: 813,862\n",
            "Trainable params: 813,862\n",
            "Non-trainable params: 0\n",
            "_________________________________________________________________\n"
          ],
          "name": "stdout"
        }
      ]
    },
    {
      "cell_type": "code",
      "metadata": {
        "id": "usWKR_eeD1ez",
        "colab_type": "code",
        "colab": {}
      },
      "source": [
        "from keras_preprocessing.image import ImageDataGenerator"
      ],
      "execution_count": 0,
      "outputs": []
    },
    {
      "cell_type": "code",
      "metadata": {
        "id": "7bD0O3ynD1e3",
        "colab_type": "code",
        "colab": {}
      },
      "source": [
        ""
      ],
      "execution_count": 0,
      "outputs": []
    },
    {
      "cell_type": "code",
      "metadata": {
        "id": "QwFyYdGCD1fC",
        "colab_type": "code",
        "outputId": "17867e36-5ee8-4949-f639-874b53168ba0",
        "colab": {
          "base_uri": "https://localhost:8080/",
          "height": 407
        }
      },
      "source": [
        "#image augmentation\n",
        "#url : https://keras.io/api/preprocessing/image/ \n",
        "train_datagen = ImageDataGenerator(\n",
        "        rescale=1./255,\n",
        "        shear_range=0.2,\n",
        "        zoom_range=0.2,\n",
        "        horizontal_flip=True)\n",
        "test_datagen = ImageDataGenerator(rescale=1./255)\n",
        "training_set = train_datagen.flow_from_directory(\n",
        "        'seg_train/seg_train/',\n",
        "        target_size=(64,64),\n",
        "        batch_size=32,\n",
        "        class_mode='categorical')\n",
        "test_set = test_datagen.flow_from_directory(\n",
        "        'seg_test/seg_test/',\n",
        "        target_size=(64,64),\n",
        "        batch_size=32,\n",
        "        class_mode='categorical')\n",
        "history = model.fit(\n",
        "        training_set,\n",
        "        steps_per_epoch=2300,\n",
        "        epochs=10,\n",
        "        validation_data=test_set,\n",
        "        validation_steps=12000)"
      ],
      "execution_count": 0,
      "outputs": [
        {
          "output_type": "stream",
          "text": [
            "Found 14034 images belonging to 6 classes.\n",
            "Found 3000 images belonging to 6 classes.\n",
            "Epoch 1/10\n",
            "2300/2300 [==============================] - 1136s 494ms/step - loss: 0.7298 - accuracy: 0.7298 - val_loss: 0.6098 - val_accuracy: 0.7720\n",
            "Epoch 2/10\n",
            "2300/2300 [==============================] - 1103s 479ms/step - loss: 0.4837 - accuracy: 0.8258 - val_loss: 0.3302 - val_accuracy: 0.7973\n",
            "Epoch 3/10\n",
            "2300/2300 [==============================] - 1085s 472ms/step - loss: 0.3888 - accuracy: 0.8605 - val_loss: 0.8450 - val_accuracy: 0.8074\n",
            "Epoch 4/10\n",
            "2300/2300 [==============================] - 1078s 469ms/step - loss: 0.3147 - accuracy: 0.8870 - val_loss: 0.1874 - val_accuracy: 0.8203\n",
            "Epoch 5/10\n",
            "2300/2300 [==============================] - 1096s 476ms/step - loss: 0.2657 - accuracy: 0.9025 - val_loss: 0.6226 - val_accuracy: 0.8103\n",
            "Epoch 6/10\n",
            "2300/2300 [==============================] - 1099s 478ms/step - loss: 0.2189 - accuracy: 0.9192 - val_loss: 0.8569 - val_accuracy: 0.7947\n",
            "Epoch 7/10\n",
            "2300/2300 [==============================] - 1092s 475ms/step - loss: 0.1903 - accuracy: 0.9316 - val_loss: 1.0919 - val_accuracy: 0.7994\n",
            "Epoch 8/10\n",
            "2300/2300 [==============================] - 1101s 479ms/step - loss: 0.1667 - accuracy: 0.9403 - val_loss: 0.5634 - val_accuracy: 0.7963\n",
            "Epoch 9/10\n",
            "2300/2300 [==============================] - 1098s 477ms/step - loss: 0.1455 - accuracy: 0.9465 - val_loss: 1.3333 - val_accuracy: 0.8153\n",
            "Epoch 10/10\n",
            "2300/2300 [==============================] - 1096s 477ms/step - loss: 0.1274 - accuracy: 0.9542 - val_loss: 0.6760 - val_accuracy: 0.8013\n"
          ],
          "name": "stdout"
        }
      ]
    },
    {
      "cell_type": "code",
      "metadata": {
        "id": "91gwkbQ6D1fH",
        "colab_type": "code",
        "colab": {}
      },
      "source": [
        "model.save(\"cnn-model.h5\")   #save model"
      ],
      "execution_count": 0,
      "outputs": []
    },
    {
      "cell_type": "code",
      "metadata": {
        "id": "QkO87Jn8D1fP",
        "colab_type": "code",
        "outputId": "0c2b6dbe-9d70-49c1-c77c-6c5f119db1f0",
        "colab": {
          "base_uri": "https://localhost:8080/",
          "height": 194
        }
      },
      "source": [
        "history.history['accuracy'] #accuracy"
      ],
      "execution_count": 0,
      "outputs": [
        {
          "output_type": "execute_result",
          "data": {
            "text/plain": [
              "[0.7298411,\n",
              " 0.82581854,\n",
              " 0.86054736,\n",
              " 0.8870257,\n",
              " 0.9024616,\n",
              " 0.9192439,\n",
              " 0.9315931,\n",
              " 0.94031006,\n",
              " 0.94647086,\n",
              " 0.95421404]"
            ]
          },
          "metadata": {
            "tags": []
          },
          "execution_count": 16
        }
      ]
    },
    {
      "cell_type": "code",
      "metadata": {
        "id": "NkGopChBh_H7",
        "colab_type": "code",
        "colab": {}
      },
      "source": [
        ""
      ],
      "execution_count": 0,
      "outputs": []
    },
    {
      "cell_type": "code",
      "metadata": {
        "id": "weM-R8OQh_Tf",
        "colab_type": "code",
        "colab": {}
      },
      "source": [
        ""
      ],
      "execution_count": 0,
      "outputs": []
    },
    {
      "cell_type": "code",
      "metadata": {
        "id": "WNKaiwdAh_P7",
        "colab_type": "code",
        "colab": {}
      },
      "source": [
        ""
      ],
      "execution_count": 0,
      "outputs": []
    },
    {
      "cell_type": "code",
      "metadata": {
        "id": "SzqNIYlTh_M3",
        "colab_type": "code",
        "colab": {}
      },
      "source": [
        ""
      ],
      "execution_count": 0,
      "outputs": []
    }
  ]
}